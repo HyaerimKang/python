{
 "cells": [
  {
   "cell_type": "markdown",
   "metadata": {},
   "source": [
    "string (문자열)\n",
    "복수개의 문자를 순서대로 나열 한 것\n",
    "문자열은 '(작은따옴표) 혹은 \"(큰따옴표) 사이에 문자를 넣어서 생성\n",
    "문자열 자체에 ', \"가 있는 경우에는 각각 그 반대의 기호로 생성"
   ]
  },
  {
   "cell_type": "code",
   "execution_count": 1,
   "metadata": {},
   "outputs": [
    {
     "name": "stdout",
     "output_type": "stream",
     "text": [
      "Hello World\n",
      "Hello World\n"
     ]
    }
   ],
   "source": [
    "a='Hello World'\n",
    "b=\"Hello World\"\n",
    "print(a)\n",
    "print(b)"
   ]
  },
  {
   "cell_type": "markdown",
   "metadata": {},
   "source": [
    "그렇다면 '(작은따옴표)와 \"(큰따옴표)의 차이는?  \n",
    "문자열 내에 작은 따옴표 원할 때 -> \"(큰 따옴표)\n",
    "혹은 문자열 내에 큰 따옴표 원할 때 -> '(작은 따옴표)"
   ]
  },
  {
   "cell_type": "code",
   "execution_count": 2,
   "metadata": {},
   "outputs": [
    {
     "ename": "SyntaxError",
     "evalue": "invalid syntax (<ipython-input-2-d9dea31e1e5f>, line 1)",
     "output_type": "error",
     "traceback": [
      "\u001b[1;36m  File \u001b[1;32m\"<ipython-input-2-d9dea31e1e5f>\"\u001b[1;36m, line \u001b[1;32m1\u001b[0m\n\u001b[1;33m    a=\"Hello \"World\"\"\u001b[0m\n\u001b[1;37m                  ^\u001b[0m\n\u001b[1;31mSyntaxError\u001b[0m\u001b[1;31m:\u001b[0m invalid syntax\n"
     ]
    }
   ],
   "source": [
    "a=\"Hello \"World\"\"\n",
    "print(a)"
   ]
  },
  {
   "cell_type": "code",
   "execution_count": 3,
   "metadata": {},
   "outputs": [
    {
     "name": "stdout",
     "output_type": "stream",
     "text": [
      "Hello 'World'\n"
     ]
    }
   ],
   "source": [
    "a=\"Hello 'World'\"\n",
    "print(a)"
   ]
  },
  {
   "cell_type": "code",
   "execution_count": 4,
   "metadata": {},
   "outputs": [
    {
     "name": "stdout",
     "output_type": "stream",
     "text": [
      "Hello \"World\"\n"
     ]
    }
   ],
   "source": [
    "a='Hello \"World\"'\n",
    "print(a)"
   ]
  },
  {
   "cell_type": "markdown",
   "metadata": {},
   "source": [
    "그렇다면 한 줄이 아닌 여러 줄은 어떻게 할까?"
   ]
  },
  {
   "cell_type": "code",
   "execution_count": 5,
   "metadata": {},
   "outputs": [
    {
     "ename": "SyntaxError",
     "evalue": "EOL while scanning string literal (<ipython-input-5-c718bd847586>, line 1)",
     "output_type": "error",
     "traceback": [
      "\u001b[1;36m  File \u001b[1;32m\"<ipython-input-5-c718bd847586>\"\u001b[1;36m, line \u001b[1;32m1\u001b[0m\n\u001b[1;33m    c=\"Hello World.\u001b[0m\n\u001b[1;37m                   ^\u001b[0m\n\u001b[1;31mSyntaxError\u001b[0m\u001b[1;31m:\u001b[0m EOL while scanning string literal\n"
     ]
    }
   ],
   "source": [
    "c=\"Hello World.\n",
    "\n",
    "It's wonderful world\"\n",
    "\n",
    "print(c)"
   ]
  },
  {
   "cell_type": "markdown",
   "metadata": {},
   "source": [
    "''' '''사용하여 표현 가능\n",
    "차이점\n",
    "'', \"\" -> 한줄 문자열 표현\n",
    "''' ''' -> 어려줄에 걸쳐 문자열 표현 가능"
   ]
  },
  {
   "cell_type": "code",
   "execution_count": 12,
   "metadata": {},
   "outputs": [
    {
     "name": "stdout",
     "output_type": "stream",
     "text": [
      "Hello World.\n",
      "\n",
      "It's wonderful world\n"
     ]
    }
   ],
   "source": [
    "c='''Hello World.\n",
    "\n",
    "It's wonderful world'''\n",
    "print(c)"
   ]
  },
  {
   "cell_type": "code",
   "execution_count": 14,
   "metadata": {},
   "outputs": [
    {
     "name": "stdout",
     "output_type": "stream",
     "text": [
      "Hello \n",
      "\n",
      "World\n",
      "Hello \n",
      "World\n"
     ]
    }
   ],
   "source": [
    "c='''Hello \n",
    "\n",
    "World'''\n",
    "d=\"\"\"Hello \n",
    "World\"\"\"\n",
    "\n",
    "print(c)\n",
    "print(d)"
   ]
  },
  {
   "cell_type": "markdown",
   "metadata": {},
   "source": [
    "escape string (이스케이프 문자)\n",
    "문자열내의 일부 문자의 의미를 달리하여 특정한 효과를 주는 것\n",
    "\\n : new line \\t : tab 등"
   ]
  },
  {
   "cell_type": "code",
   "execution_count": 18,
   "metadata": {},
   "outputs": [
    {
     "name": "stdout",
     "output_type": "stream",
     "text": [
      "Hello world\n",
      "\n",
      "\n",
      "Ha\thahaha\n"
     ]
    }
   ],
   "source": [
    "print('Hello world\\n\\n')\n",
    "print('Ha\\thahaha')"
   ]
  },
  {
   "cell_type": "markdown",
   "metadata": {},
   "source": [
    "indexing & slicing string (문자열 인덱스 및 추출)\n",
    "문자열의 각 문자는 순서가 있음\n",
    "이때 각 문자열의 순서를 인덱스 라고 함\n",
    "첫번째 문자부터 마지막까지 차례대로의 순서를 가짐\n",
    "첫번째 시작문자의 순서는 0으로 시작 (1이 아님)"
   ]
  },
  {
   "cell_type": "markdown",
   "metadata": {},
   "source": [
    "연습문제 문자열의 마지막 문자의 순서의 값은?"
   ]
  },
  {
   "cell_type": "code",
   "execution_count": 2,
   "metadata": {},
   "outputs": [
    {
     "name": "stdout",
     "output_type": "stream",
     "text": [
      "H\n",
      "e\n",
      "d\n"
     ]
    }
   ],
   "source": [
    "a='Hello World'   #길이 : 11\n",
    "print(a[0])\n",
    "print(a[1])\n",
    "print(a[10])"
   ]
  },
  {
   "cell_type": "markdown",
   "metadata": {},
   "source": [
    "-1 인덱스\n",
    "다른 언어와는 달리, python의 경우 음수 인덱스를 지원\n",
    "-1이 가장 마지막 인덱스를, -2가 마지막에서 두번째 인덱스를 의미..."
   ]
  },
  {
   "cell_type": "code",
   "execution_count": 25,
   "metadata": {},
   "outputs": [
    {
     "name": "stdout",
     "output_type": "stream",
     "text": [
      "d\n",
      "e\n",
      "H\n"
     ]
    }
   ],
   "source": [
    "print(a[-1])\n",
    "print(a[-10])\n",
    "print(a[-11])"
   ]
  },
  {
   "cell_type": "code",
   "execution_count": 26,
   "metadata": {},
   "outputs": [
    {
     "ename": "IndexError",
     "evalue": "string index out of range",
     "output_type": "error",
     "traceback": [
      "\u001b[1;31m---------------------------------------------------------------------------\u001b[0m",
      "\u001b[1;31mIndexError\u001b[0m                                Traceback (most recent call last)",
      "\u001b[1;32m<ipython-input-26-b9319a317e4b>\u001b[0m in \u001b[0;36m<module>\u001b[1;34m\u001b[0m\n\u001b[1;32m----> 1\u001b[1;33m \u001b[0mprint\u001b[0m\u001b[1;33m(\u001b[0m\u001b[0ma\u001b[0m\u001b[1;33m[\u001b[0m\u001b[1;36m11\u001b[0m\u001b[1;33m]\u001b[0m\u001b[1;33m)\u001b[0m\u001b[1;33m\u001b[0m\u001b[1;33m\u001b[0m\u001b[0m\n\u001b[0m",
      "\u001b[1;31mIndexError\u001b[0m: string index out of range"
     ]
    }
   ],
   "source": [
    "print(a[11])  #인덱스 범위안에서만 유효"
   ]
  },
  {
   "cell_type": "markdown",
   "metadata": {},
   "source": [
    "인덱스의 범위\n",
    "인덱스는 [0, 문자열의 길이) 의 범위만 유효\n",
    "음수 인덱스를 사용할 경우, [-문자열의 길이, -1]\n",
    "범위를 넘어갈 경우 에러 발생"
   ]
  },
  {
   "cell_type": "markdown",
   "metadata": {},
   "source": [
    "문자열 slicing\n",
    "인덱스가 하나의 문자만을 추출한다면,\n",
    "slicing은 부분 문자열을 추출한다고 볼 수 있음\n",
    "[시작:끝]와 같이 명시하여 [시작, 끝)에 해당하는 부분 문자열을 추출\n",
    "시작, 끝 인덱스가 생략이 되어 있다면, 0부터 혹은 끝까지로 간주"
   ]
  },
  {
   "cell_type": "code",
   "execution_count": 7,
   "metadata": {},
   "outputs": [
    {
     "name": "stdout",
     "output_type": "stream",
     "text": [
      "Hello Worl\n",
      "Hello World\n",
      "H\n",
      "Hello\n",
      " \n",
      "Hello\n",
      "lo World\n",
      "llo World\n",
      "Hello World\n"
     ]
    }
   ],
   "source": [
    "print(a[0:10])\n",
    "print(a[0:11])\n",
    "print(a[0:1])\n",
    "\n",
    "print(a[0:5])\n",
    "print(a[5])\n",
    "print(a[:5])\n",
    "\n",
    "print(a[3:])\n",
    "print(a[2:])\n",
    "\n",
    "print(a[:])"
   ]
  },
  {
   "cell_type": "markdown",
   "metadata": {},
   "source": [
    "문자열 함수\n",
    "문자열은 여러가지 기능 제공을 위한 함수를 내장\n",
    "함수란 특정 기능을 하는 코드로 언제든지 호출하여 해당 기능을 사용 가능하도록 구성한 코드\n",
    "추후에 함수에 대해 자세히 다룰 예정"
   ]
  },
  {
   "cell_type": "code",
   "execution_count": 40,
   "metadata": {},
   "outputs": [
    {
     "data": {
      "text/plain": [
       "'new'"
      ]
     },
     "execution_count": 40,
     "metadata": {},
     "output_type": "execute_result"
    }
   ],
   "source": [
    "a.upper()\n",
    "b='happy'\n",
    "b.upper()\n",
    "c='NEW'\n",
    "c.lower()"
   ]
  },
  {
   "cell_type": "markdown",
   "metadata": {},
   "source": [
    "replace\n",
    "문자열 내의 특정 문자를 치환"
   ]
  },
  {
   "cell_type": "code",
   "execution_count": 42,
   "metadata": {},
   "outputs": [
    {
     "data": {
      "text/plain": [
       "'jello World'"
      ]
     },
     "execution_count": 42,
     "metadata": {},
     "output_type": "execute_result"
    }
   ],
   "source": [
    "a='Hello World'\n",
    "a.replace('H','j')"
   ]
  },
  {
   "cell_type": "code",
   "execution_count": null,
   "metadata": {},
   "outputs": [],
   "source": []
  }
 ],
 "metadata": {
  "kernelspec": {
   "display_name": "Python 3",
   "language": "python",
   "name": "python3"
  },
  "language_info": {
   "codemirror_mode": {
    "name": "ipython",
    "version": 3
   },
   "file_extension": ".py",
   "mimetype": "text/x-python",
   "name": "python",
   "nbconvert_exporter": "python",
   "pygments_lexer": "ipython3",
   "version": "3.7.3"
  }
 },
 "nbformat": 4,
 "nbformat_minor": 2
}
